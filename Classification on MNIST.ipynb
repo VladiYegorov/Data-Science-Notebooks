{
 "cells": [
  {
   "cell_type": "markdown",
   "metadata": {},
   "source": [
    "# MNIST Classifier\n",
    "In this notebook you will be given an introduction to MNIST Database.  \n",
    "https://en.wikipedia.org/wiki/MNIST_database"
   ]
  },
  {
   "cell_type": "markdown",
   "metadata": {},
   "source": [
    "We start with loading the data.  \n",
    "Download the training and testing database from: http://yann.lecun.com/exdb/mnist/  \n",
    "Extract and make csv files using the following script:"
   ]
  },
  {
   "cell_type": "code",
   "execution_count": 1,
   "metadata": {},
   "outputs": [],
   "source": [
    "import gzip\n",
    "\n",
    "def convertMnistToCsv(x,y,out_name,size):\n",
    "    #Creating new file\n",
    "    new_file = open(out_name, \"w\") \n",
    "    x.read(16)\n",
    "    y.read(8)\n",
    "    images = []\n",
    "\n",
    "    #Adding the first line in the csv file (the columns)\n",
    "    columns = \"Label\"       \n",
    "    for i in range(28*28):\n",
    "        columns += \",P\"+str(i)\n",
    "    new_file.write(columns+\"\\n\")\n",
    "\n",
    "    #Making the data matrix\n",
    "    for i in range(size):       \n",
    "        img = [ord(y.read(1))]\n",
    "        for j in range(28*28):\n",
    "            img.append(ord(x.read(1)))\n",
    "        images.append(img)\n",
    "\n",
    "    #Combining each row and writing to the new file in csv format\n",
    "    for img in images:\n",
    "        new_file.write(\",\".join(str(p) for p in img)+\"\\n\")\n",
    "\n",
    "    x.close()\n",
    "    y.close()\n",
    "    new_file.close()\n",
    "\n",
    "Xtrain = gzip.open(\"train-images-idx3-ubyte.gz\",'r')\n",
    "Ytrain = gzip.open(\"train-labels-idx1-ubyte.gz\",'r')\n",
    "Xtest = gzip.open(\"t10k-images-idx3-ubyte.gz\",'r')\n",
    "Ytest = gzip.open(\"t10k-labels-idx1-ubyte.gz\",'r')\n",
    "convertMnistToCsv(Xtrain, Ytrain, \"mnist_train.csv\", 60000)\n",
    "convertMnistToCsv(Xtest, Ytest,\"mnist_test.csv\", 10000)"
   ]
  },
  {
   "cell_type": "markdown",
   "metadata": {},
   "source": [
    "Looking at the output files (A notepad for large data or Pandas library),\"mnist_train.csv\" and \"mnist_test.csv\", and observing the first row (Columns row) shows the format of the files: Label,P0,P1,...P783.  \n",
    "The first column is the label of the image, and \"P'i'\" is the pixel located in 0<=i<=783, where 0<=P'i'<=255  \n",
    "\n",
    "Split the data into two datasets(Xtrain,Xtest) and two label sets(Ytrain,Ytest) corresponding:"
   ]
  },
  {
   "cell_type": "code",
   "execution_count": 2,
   "metadata": {},
   "outputs": [],
   "source": [
    "import pandas as pd\n",
    "import numpy as np\n",
    "\n",
    "train_data = pd.read_csv(\"mnist_train.csv\")\n",
    "test_data = pd.read_csv(\"mnist_test.csv\")\n",
    "\n",
    "Xtrain = train_data.iloc[:,1:]\n",
    "Ytrain = train_data.iloc[:,:1]\n",
    "Ytrain = Ytrain.values.ravel()\n",
    "\n",
    "Xtest = test_data.iloc[:,1:]\n",
    "Ytest = test_data.iloc[:,:1]\n",
    "Ytest = Ytest.values.ravel()"
   ]
  },
  {
   "cell_type": "markdown",
   "metadata": {},
   "source": [
    "Make two additional datasets to test the difference when modifying the data:  \n",
    "&middot; Categorical - combining interval of number to specific label.  \n",
    "&middot; Normalized - all the values become between 0 to 1, and unnecessary columns deleted."
   ]
  },
  {
   "cell_type": "markdown",
   "metadata": {},
   "source": [
    "New dataset by category:"
   ]
  },
  {
   "cell_type": "code",
   "execution_count": 3,
   "metadata": {},
   "outputs": [],
   "source": [
    "catXtrain = pd.DataFrame()\n",
    "catXtest = pd.DataFrame()\n",
    "for col in Xtrain.columns:\n",
    "    catXtrain[col+'_cat'] = pd.cut(Xtrain[col],bins=[-np.inf, 50, np.inf],labels=[0,1])\n",
    "    catXtest[col+'_cat'] = pd.cut(Xtest[col],bins=[-np.inf, 50, np.inf],labels=[0,1])\n",
    "    \n",
    "catXtrain = catXtrain.astype(np.int64)\n",
    "catXtest = catXtest.astype(np.int64)"
   ]
  },
  {
   "cell_type": "markdown",
   "metadata": {},
   "source": [
    "New dataset with normalization:"
   ]
  },
  {
   "cell_type": "code",
   "execution_count": 4,
   "metadata": {},
   "outputs": [],
   "source": [
    "normXtrain = Xtrain / 255\n",
    "normXtest = Xtest / 255\n",
    "for column in normXtrain:\n",
    "    if normXtrain[column].mean() == 0. and normXtest[column].mean() == 0.:\n",
    "        normXtrain = normXtrain.drop([column],axis=1)\n",
    "        normXtest = normXtest.drop([column],axis=1)"
   ]
  },
  {
   "cell_type": "markdown",
   "metadata": {},
   "source": [
    "Make correlation matrix for the category dataset.  \n",
    "As you can expect, there is a high correlation between a pixel and its surrounding pixels:"
   ]
  },
  {
   "cell_type": "code",
   "execution_count": 5,
   "metadata": {},
   "outputs": [
    {
     "data": {
      "text/plain": [
       "P300_cat    1.000000\n",
       "P272_cat    0.776096\n",
       "P328_cat    0.773510\n",
       "P301_cat    0.661627\n",
       "P299_cat    0.636626\n",
       "              ...   \n",
       "P759_cat         NaN\n",
       "P780_cat         NaN\n",
       "P781_cat         NaN\n",
       "P782_cat         NaN\n",
       "P783_cat         NaN\n",
       "Name: P300_cat, Length: 784, dtype: float64"
      ]
     },
     "execution_count": 5,
     "metadata": {},
     "output_type": "execute_result"
    }
   ],
   "source": [
    "corr_matrix = catXtrain.corr()\n",
    "corr_matrix[\"P300_cat\"].sort_values(ascending=False)"
   ]
  },
  {
   "cell_type": "markdown",
   "metadata": {},
   "source": [
    "Describe statistical stats about the normalized dataset.  \n",
    "As you can expect, max is always greather than 1 and the mean is always greather then 0.  \n",
    "Also we can assume that 65 = 784 - 719 columns were dropped."
   ]
  },
  {
   "cell_type": "code",
   "execution_count": 6,
   "metadata": {},
   "outputs": [
    {
     "data": {
      "text/html": [
       "<div>\n",
       "<style scoped>\n",
       "    .dataframe tbody tr th:only-of-type {\n",
       "        vertical-align: middle;\n",
       "    }\n",
       "\n",
       "    .dataframe tbody tr th {\n",
       "        vertical-align: top;\n",
       "    }\n",
       "\n",
       "    .dataframe thead th {\n",
       "        text-align: right;\n",
       "    }\n",
       "</style>\n",
       "<table border=\"1\" class=\"dataframe\">\n",
       "  <thead>\n",
       "    <tr style=\"text-align: right;\">\n",
       "      <th></th>\n",
       "      <th>P12</th>\n",
       "      <th>P13</th>\n",
       "      <th>P14</th>\n",
       "      <th>P15</th>\n",
       "      <th>P32</th>\n",
       "      <th>P33</th>\n",
       "      <th>P34</th>\n",
       "      <th>P35</th>\n",
       "      <th>P36</th>\n",
       "      <th>P37</th>\n",
       "      <th>...</th>\n",
       "      <th>P770</th>\n",
       "      <th>P771</th>\n",
       "      <th>P772</th>\n",
       "      <th>P773</th>\n",
       "      <th>P774</th>\n",
       "      <th>P775</th>\n",
       "      <th>P776</th>\n",
       "      <th>P777</th>\n",
       "      <th>P778</th>\n",
       "      <th>P779</th>\n",
       "    </tr>\n",
       "  </thead>\n",
       "  <tbody>\n",
       "    <tr>\n",
       "      <th>count</th>\n",
       "      <td>60000.000000</td>\n",
       "      <td>60000.000000</td>\n",
       "      <td>60000.000000</td>\n",
       "      <td>6.000000e+04</td>\n",
       "      <td>60000.000000</td>\n",
       "      <td>60000.000000</td>\n",
       "      <td>60000.000000</td>\n",
       "      <td>60000.000000</td>\n",
       "      <td>60000.000000</td>\n",
       "      <td>60000.000000</td>\n",
       "      <td>...</td>\n",
       "      <td>60000.000000</td>\n",
       "      <td>60000.000000</td>\n",
       "      <td>60000.000000</td>\n",
       "      <td>60000.000000</td>\n",
       "      <td>60000.000000</td>\n",
       "      <td>60000.000000</td>\n",
       "      <td>60000.000000</td>\n",
       "      <td>60000.000000</td>\n",
       "      <td>60000.000000</td>\n",
       "      <td>60000.000000</td>\n",
       "    </tr>\n",
       "    <tr>\n",
       "      <th>mean</th>\n",
       "      <td>0.000008</td>\n",
       "      <td>0.000031</td>\n",
       "      <td>0.000014</td>\n",
       "      <td>5.882353e-07</td>\n",
       "      <td>0.000001</td>\n",
       "      <td>0.000004</td>\n",
       "      <td>0.000036</td>\n",
       "      <td>0.000095</td>\n",
       "      <td>0.000171</td>\n",
       "      <td>0.000251</td>\n",
       "      <td>...</td>\n",
       "      <td>0.002698</td>\n",
       "      <td>0.002322</td>\n",
       "      <td>0.001893</td>\n",
       "      <td>0.001347</td>\n",
       "      <td>0.000786</td>\n",
       "      <td>0.000348</td>\n",
       "      <td>0.000179</td>\n",
       "      <td>0.000076</td>\n",
       "      <td>0.000059</td>\n",
       "      <td>0.000008</td>\n",
       "    </tr>\n",
       "    <tr>\n",
       "      <th>std</th>\n",
       "      <td>0.001864</td>\n",
       "      <td>0.005338</td>\n",
       "      <td>0.003458</td>\n",
       "      <td>1.440876e-04</td>\n",
       "      <td>0.000256</td>\n",
       "      <td>0.000763</td>\n",
       "      <td>0.004137</td>\n",
       "      <td>0.008216</td>\n",
       "      <td>0.011616</td>\n",
       "      <td>0.013035</td>\n",
       "      <td>...</td>\n",
       "      <td>0.044718</td>\n",
       "      <td>0.041244</td>\n",
       "      <td>0.036854</td>\n",
       "      <td>0.031599</td>\n",
       "      <td>0.023696</td>\n",
       "      <td>0.015514</td>\n",
       "      <td>0.011137</td>\n",
       "      <td>0.006615</td>\n",
       "      <td>0.006582</td>\n",
       "      <td>0.001359</td>\n",
       "    </tr>\n",
       "    <tr>\n",
       "      <th>min</th>\n",
       "      <td>0.000000</td>\n",
       "      <td>0.000000</td>\n",
       "      <td>0.000000</td>\n",
       "      <td>0.000000e+00</td>\n",
       "      <td>0.000000</td>\n",
       "      <td>0.000000</td>\n",
       "      <td>0.000000</td>\n",
       "      <td>0.000000</td>\n",
       "      <td>0.000000</td>\n",
       "      <td>0.000000</td>\n",
       "      <td>...</td>\n",
       "      <td>0.000000</td>\n",
       "      <td>0.000000</td>\n",
       "      <td>0.000000</td>\n",
       "      <td>0.000000</td>\n",
       "      <td>0.000000</td>\n",
       "      <td>0.000000</td>\n",
       "      <td>0.000000</td>\n",
       "      <td>0.000000</td>\n",
       "      <td>0.000000</td>\n",
       "      <td>0.000000</td>\n",
       "    </tr>\n",
       "    <tr>\n",
       "      <th>25%</th>\n",
       "      <td>0.000000</td>\n",
       "      <td>0.000000</td>\n",
       "      <td>0.000000</td>\n",
       "      <td>0.000000e+00</td>\n",
       "      <td>0.000000</td>\n",
       "      <td>0.000000</td>\n",
       "      <td>0.000000</td>\n",
       "      <td>0.000000</td>\n",
       "      <td>0.000000</td>\n",
       "      <td>0.000000</td>\n",
       "      <td>...</td>\n",
       "      <td>0.000000</td>\n",
       "      <td>0.000000</td>\n",
       "      <td>0.000000</td>\n",
       "      <td>0.000000</td>\n",
       "      <td>0.000000</td>\n",
       "      <td>0.000000</td>\n",
       "      <td>0.000000</td>\n",
       "      <td>0.000000</td>\n",
       "      <td>0.000000</td>\n",
       "      <td>0.000000</td>\n",
       "    </tr>\n",
       "    <tr>\n",
       "      <th>50%</th>\n",
       "      <td>0.000000</td>\n",
       "      <td>0.000000</td>\n",
       "      <td>0.000000</td>\n",
       "      <td>0.000000e+00</td>\n",
       "      <td>0.000000</td>\n",
       "      <td>0.000000</td>\n",
       "      <td>0.000000</td>\n",
       "      <td>0.000000</td>\n",
       "      <td>0.000000</td>\n",
       "      <td>0.000000</td>\n",
       "      <td>...</td>\n",
       "      <td>0.000000</td>\n",
       "      <td>0.000000</td>\n",
       "      <td>0.000000</td>\n",
       "      <td>0.000000</td>\n",
       "      <td>0.000000</td>\n",
       "      <td>0.000000</td>\n",
       "      <td>0.000000</td>\n",
       "      <td>0.000000</td>\n",
       "      <td>0.000000</td>\n",
       "      <td>0.000000</td>\n",
       "    </tr>\n",
       "    <tr>\n",
       "      <th>75%</th>\n",
       "      <td>0.000000</td>\n",
       "      <td>0.000000</td>\n",
       "      <td>0.000000</td>\n",
       "      <td>0.000000e+00</td>\n",
       "      <td>0.000000</td>\n",
       "      <td>0.000000</td>\n",
       "      <td>0.000000</td>\n",
       "      <td>0.000000</td>\n",
       "      <td>0.000000</td>\n",
       "      <td>0.000000</td>\n",
       "      <td>...</td>\n",
       "      <td>0.000000</td>\n",
       "      <td>0.000000</td>\n",
       "      <td>0.000000</td>\n",
       "      <td>0.000000</td>\n",
       "      <td>0.000000</td>\n",
       "      <td>0.000000</td>\n",
       "      <td>0.000000</td>\n",
       "      <td>0.000000</td>\n",
       "      <td>0.000000</td>\n",
       "      <td>0.000000</td>\n",
       "    </tr>\n",
       "    <tr>\n",
       "      <th>max</th>\n",
       "      <td>0.454902</td>\n",
       "      <td>0.996078</td>\n",
       "      <td>0.847059</td>\n",
       "      <td>3.529412e-02</td>\n",
       "      <td>0.062745</td>\n",
       "      <td>0.184314</td>\n",
       "      <td>0.615686</td>\n",
       "      <td>0.996078</td>\n",
       "      <td>1.000000</td>\n",
       "      <td>0.996078</td>\n",
       "      <td>...</td>\n",
       "      <td>1.000000</td>\n",
       "      <td>1.000000</td>\n",
       "      <td>1.000000</td>\n",
       "      <td>1.000000</td>\n",
       "      <td>0.996078</td>\n",
       "      <td>0.996078</td>\n",
       "      <td>0.992157</td>\n",
       "      <td>0.992157</td>\n",
       "      <td>0.996078</td>\n",
       "      <td>0.243137</td>\n",
       "    </tr>\n",
       "  </tbody>\n",
       "</table>\n",
       "<p>8 rows × 719 columns</p>\n",
       "</div>"
      ],
      "text/plain": [
       "                P12           P13           P14           P15           P32  \\\n",
       "count  60000.000000  60000.000000  60000.000000  6.000000e+04  60000.000000   \n",
       "mean       0.000008      0.000031      0.000014  5.882353e-07      0.000001   \n",
       "std        0.001864      0.005338      0.003458  1.440876e-04      0.000256   \n",
       "min        0.000000      0.000000      0.000000  0.000000e+00      0.000000   \n",
       "25%        0.000000      0.000000      0.000000  0.000000e+00      0.000000   \n",
       "50%        0.000000      0.000000      0.000000  0.000000e+00      0.000000   \n",
       "75%        0.000000      0.000000      0.000000  0.000000e+00      0.000000   \n",
       "max        0.454902      0.996078      0.847059  3.529412e-02      0.062745   \n",
       "\n",
       "                P33           P34           P35           P36           P37  \\\n",
       "count  60000.000000  60000.000000  60000.000000  60000.000000  60000.000000   \n",
       "mean       0.000004      0.000036      0.000095      0.000171      0.000251   \n",
       "std        0.000763      0.004137      0.008216      0.011616      0.013035   \n",
       "min        0.000000      0.000000      0.000000      0.000000      0.000000   \n",
       "25%        0.000000      0.000000      0.000000      0.000000      0.000000   \n",
       "50%        0.000000      0.000000      0.000000      0.000000      0.000000   \n",
       "75%        0.000000      0.000000      0.000000      0.000000      0.000000   \n",
       "max        0.184314      0.615686      0.996078      1.000000      0.996078   \n",
       "\n",
       "       ...          P770          P771          P772          P773  \\\n",
       "count  ...  60000.000000  60000.000000  60000.000000  60000.000000   \n",
       "mean   ...      0.002698      0.002322      0.001893      0.001347   \n",
       "std    ...      0.044718      0.041244      0.036854      0.031599   \n",
       "min    ...      0.000000      0.000000      0.000000      0.000000   \n",
       "25%    ...      0.000000      0.000000      0.000000      0.000000   \n",
       "50%    ...      0.000000      0.000000      0.000000      0.000000   \n",
       "75%    ...      0.000000      0.000000      0.000000      0.000000   \n",
       "max    ...      1.000000      1.000000      1.000000      1.000000   \n",
       "\n",
       "               P774          P775          P776          P777          P778  \\\n",
       "count  60000.000000  60000.000000  60000.000000  60000.000000  60000.000000   \n",
       "mean       0.000786      0.000348      0.000179      0.000076      0.000059   \n",
       "std        0.023696      0.015514      0.011137      0.006615      0.006582   \n",
       "min        0.000000      0.000000      0.000000      0.000000      0.000000   \n",
       "25%        0.000000      0.000000      0.000000      0.000000      0.000000   \n",
       "50%        0.000000      0.000000      0.000000      0.000000      0.000000   \n",
       "75%        0.000000      0.000000      0.000000      0.000000      0.000000   \n",
       "max        0.996078      0.996078      0.992157      0.992157      0.996078   \n",
       "\n",
       "               P779  \n",
       "count  60000.000000  \n",
       "mean       0.000008  \n",
       "std        0.001359  \n",
       "min        0.000000  \n",
       "25%        0.000000  \n",
       "50%        0.000000  \n",
       "75%        0.000000  \n",
       "max        0.243137  \n",
       "\n",
       "[8 rows x 719 columns]"
      ]
     },
     "execution_count": 6,
     "metadata": {},
     "output_type": "execute_result"
    }
   ],
   "source": [
    "normXtrain.describe()"
   ]
  },
  {
   "cell_type": "markdown",
   "metadata": {},
   "source": [
    "Build three SVM models for each dataset (Xtrain, catXtrain, normXtrain).  \n",
    "Evaluate the models using cross validation for under/overfitting"
   ]
  },
  {
   "cell_type": "code",
   "execution_count": 7,
   "metadata": {
    "scrolled": true
   },
   "outputs": [
    {
     "name": "stdout",
     "output_type": "stream",
     "text": [
      "Original Xtrain:\n",
      "Cross validation Score: 0.876 +/- 0.029257477676655614\n",
      "Test sample Score: 0.8425 \n",
      "\n",
      "Category Xtrain:\n",
      "Cross validation Score: 0.876 +/- 0.00979795897113272\n",
      "Test sample Scoree: 0.841 \n",
      "\n",
      "Normalized Xtrain:\n",
      "Cross validation Score: 0.901 +/- 0.02315167380558047\n",
      "Test sample Score 0.87 \n",
      "\n"
     ]
    }
   ],
   "source": [
    "from sklearn import svm\n",
    "from sklearn.model_selection import cross_val_score\n",
    "\n",
    "train_size = 1000\n",
    "test_size = 2000\n",
    "\n",
    "#Original dataset\n",
    "svm_model1 = svm.SVC(kernel='linear',C=1,decision_function_shape='ovo').fit(Xtrain.iloc[:train_size],Ytrain[:train_size])\n",
    "scores1 = cross_val_score(svm_model1,Xtrain.iloc[:train_size],Ytrain[:train_size],cv=5)\n",
    "\n",
    "#Categorical dataset\n",
    "svm_model2 = svm.SVC(kernel='linear',C=1,decision_function_shape='ovo').fit(catXtrain.iloc[:train_size],Ytrain[:train_size])\n",
    "scores2 = cross_val_score(svm_model2,catXtrain.iloc[:train_size],Ytrain[:train_size],cv=5)\n",
    "\n",
    "#Normalized dataset\n",
    "svm_model3 = svm.SVC(kernel='rbf',C=1,decision_function_shape='ovo').fit(normXtrain.iloc[:train_size],Ytrain[:train_size])\n",
    "scores3 = cross_val_score(svm_model3,normXtrain.iloc[:train_size],Ytrain[:train_size],cv=5)\n",
    "\n",
    "print(\"Original Xtrain:\")\n",
    "print(\"Cross validation Score:\",scores1.mean(),\"+/-\",scores1.std() * 2)\n",
    "print(\"Test sample Score:\",svm_model1.score(Xtest.iloc[:test_size],Ytest[:test_size]),\"\\n\")\n",
    "\n",
    "print(\"Category Xtrain:\")\n",
    "print(\"Cross validation Score:\",scores2.mean(),\"+/-\",scores2.std() * 2)\n",
    "print(\"Test sample Scoree:\",svm_model2.score(catXtest.iloc[:test_size],Ytest[:test_size]),\"\\n\")\n",
    "\n",
    "print(\"Normalized Xtrain:\")\n",
    "print(\"Cross validation Score:\",scores3.mean(),\"+/-\",scores3.std() * 2)\n",
    "print(\"Test sample Score\",svm_model3.score(normXtest.iloc[:test_size],Ytest[:test_size]),\"\\n\")"
   ]
  },
  {
   "cell_type": "markdown",
   "metadata": {},
   "source": [
    "Notice the small trainning sample.  \n",
    "Assuming the labels distributed uniformly we get only 100 samples per label, and still the models perform with reasonable results.  \n",
    "Tweaking the hyperparameters in the SVM model (kernel,C,gamma for kernel='rbf' ect.) could help for better scoring."
   ]
  },
  {
   "cell_type": "markdown",
   "metadata": {},
   "source": [
    "Explore different metrics to evaluate and improve the models:"
   ]
  },
  {
   "cell_type": "markdown",
   "metadata": {},
   "source": [
    "&middot; Use confusion matrix to find labels with high number of false-positive or false-negative."
   ]
  },
  {
   "cell_type": "code",
   "execution_count": 8,
   "metadata": {},
   "outputs": [
    {
     "data": {
      "text/plain": [
       "array([[165,   0,   0,   0,   3,   3,   4,   0,   0,   0],\n",
       "       [  0, 229,   0,   0,   0,   1,   0,   2,   2,   0],\n",
       "       [  3,   2, 194,   1,   3,   0,   7,   6,   3,   0],\n",
       "       [  0,   3,   4, 154,   0,  31,   2,   4,   8,   1],\n",
       "       [  0,   1,   0,   1, 183,   2,   5,   0,   0,  25],\n",
       "       [  2,   1,   2,   7,   2, 147,   2,   4,   4,   8],\n",
       "       [  2,   1,   7,   0,   4,   7, 156,   1,   0,   0],\n",
       "       [  0,   5,  11,   3,   7,   1,   0, 165,   0,  13],\n",
       "       [  4,   3,   7,   9,   2,  16,   4,   4, 133,  10],\n",
       "       [  1,   0,   0,   6,  10,   4,   0,  12,   2, 159]], dtype=int64)"
      ]
     },
     "execution_count": 8,
     "metadata": {},
     "output_type": "execute_result"
    },
    {
     "data": {
      "image/png": "[encoded data removed]",
      "text/plain": [
       "<Figure size 432x288 with 2 Axes>"
      ]
     },
     "metadata": {
      "needs_background": "light"
     },
     "output_type": "display_data"
    }
   ],
   "source": [
    "from sklearn.metrics import confusion_matrix\n",
    "from sklearn.metrics import plot_confusion_matrix\n",
    "\n",
    "labels = [0,1,2,3,4,5,6,7,8,9]\n",
    "\n",
    "plot_confusion_matrix(svm_model1,Xtest.iloc[:2000],Ytest[:2000],labels=labels)\n",
    "confusion_matrix(Ytest[:2000],svm_model1.predict(Xtest.iloc[:2000]),labels=labels)"
   ]
  },
  {
   "cell_type": "markdown",
   "metadata": {},
   "source": [
    "&middot; Use Precision and Recall to improve f1 score."
   ]
  },
  {
   "cell_type": "code",
   "execution_count": 9,
   "metadata": {},
   "outputs": [
    {
     "data": {
      "image/png": "[encoded data removed]",
      "text/plain": [
       "<Figure size 432x288 with 1 Axes>"
      ]
     },
     "metadata": {
      "needs_background": "light"
     },
     "output_type": "display_data"
    }
   ],
   "source": [
    "from sklearn.metrics import precision_score,recall_score,f1_score\n",
    "import matplotlib.pyplot as plt\n",
    "\n",
    "labels = [0,1,2,3,4,5,6,7,8,9]\n",
    "y_test_pred = svm_model1.predict(Xtest.iloc[:2000])\n",
    "pre_score = precision_score(Ytest[:2000], y_test_pred,average=None)\n",
    "rc_score = recall_score(Ytest[:2000], y_test_pred,average=None)\n",
    "comb_score = f1_score(Ytest[:2000],y_test_pred,average=None)\n",
    "\n",
    "x = np.arange(len(labels)) \n",
    "width = 0.3\n",
    "\n",
    "fig, ax = plt.subplots()\n",
    "rects1 = ax.bar(x - width/2, pre_score, width, label='Precision')\n",
    "rects2 = ax.bar(x + width/2, rc_score, width, label='Recall')\n",
    "ax.set_ylabel('Score')\n",
    "ax.set_title('Metrics Compare')\n",
    "ax.legend()\n",
    "\n",
    "\n",
    "fig.tight_layout()\n",
    "\n",
    "plt.show()"
   ]
  }
 ],
 "metadata": {
  "kernelspec": {
   "display_name": "Python 3",
   "language": "python",
   "name": "python3"
  },
  "language_info": {
   "codemirror_mode": {
    "name": "ipython",
    "version": 3
   },
   "file_extension": ".py",
   "mimetype": "text/x-python",
   "name": "python",
   "nbconvert_exporter": "python",
   "pygments_lexer": "ipython3",
   "version": "3.6.12"
  }
 },
 "nbformat": 4,
 "nbformat_minor": 4
}
